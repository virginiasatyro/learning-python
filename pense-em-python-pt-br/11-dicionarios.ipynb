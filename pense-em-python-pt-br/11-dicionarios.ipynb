{
 "cells": [
  {
   "cell_type": "markdown",
   "metadata": {},
   "source": [
    "# Capítulo 11 - Dicionários"
   ]
  },
  {
   "cell_type": "code",
   "execution_count": 3,
   "metadata": {},
   "outputs": [
    {
     "data": {
      "text/plain": [
       "{}"
      ]
     },
     "execution_count": 3,
     "metadata": {},
     "output_type": "execute_result"
    }
   ],
   "source": [
    "eng2sp = dict()\n",
    "eng2sp\n",
    "# {} representa um dicionário vazio"
   ]
  },
  {
   "cell_type": "code",
   "execution_count": 4,
   "metadata": {},
   "outputs": [
    {
     "data": {
      "text/plain": [
       "{'one': 'uno'}"
      ]
     },
     "execution_count": 4,
     "metadata": {},
     "output_type": "execute_result"
    }
   ],
   "source": [
    "# acrescentar itens ao dicionário\n",
    "eng2sp['one'] = 'uno'\n",
    "eng2sp"
   ]
  },
  {
   "cell_type": "code",
   "execution_count": 6,
   "metadata": {},
   "outputs": [
    {
     "data": {
      "text/plain": [
       "{'one': 'uno', 'two': 'dos', 'three': 'tres'}"
      ]
     },
     "execution_count": 6,
     "metadata": {},
     "output_type": "execute_result"
    }
   ],
   "source": [
    "# criando um dicionário com 3 itens\n",
    "eng2sp = {'one': 'uno', 'two': 'dos', 'three': 'tres'}\n",
    "eng2sp\n",
    "# ao exibir o dicionário os pares chave-valor podem não ser os mesmos\n",
    "# a ordem dos itens em um dicionário é imprevisível"
   ]
  },
  {
   "cell_type": "code",
   "execution_count": null,
   "metadata": {},
   "outputs": [
    {
     "data": {
      "text/plain": [
       "'dos'"
      ]
     },
     "execution_count": 8,
     "metadata": {},
     "output_type": "execute_result"
    }
   ],
   "source": [
    "# os elementos de um dicionário nunca são indexados com índices de números inteiros\n",
    "# usa-se as chaves para procurar os valores correspondentes\n",
    "eng2sp['two']\n",
    "# 'two' sempre mapeia para o valor 'dos'"
   ]
  },
  {
   "cell_type": "code",
   "execution_count": null,
   "metadata": {},
   "outputs": [
    {
     "ename": "KeyError",
     "evalue": "'four'",
     "output_type": "error",
     "traceback": [
      "\u001b[1;31m---------------------------------------------------------------------------\u001b[0m",
      "\u001b[1;31mKeyError\u001b[0m                                  Traceback (most recent call last)",
      "Cell \u001b[1;32mIn[9], line 1\u001b[0m\n\u001b[1;32m----> 1\u001b[0m eng2sp[\u001b[38;5;124m'\u001b[39m\u001b[38;5;124mfour\u001b[39m\u001b[38;5;124m'\u001b[39m]\n",
      "\u001b[1;31mKeyError\u001b[0m: 'four'"
     ]
    }
   ],
   "source": [
    "# se a chave não estiver no dicionário -> exceção\n",
    "eng2sp['four']"
   ]
  },
  {
   "cell_type": "code",
   "execution_count": 10,
   "metadata": {},
   "outputs": [
    {
     "data": {
      "text/plain": [
       "3"
      ]
     },
     "execution_count": 10,
     "metadata": {},
     "output_type": "execute_result"
    }
   ],
   "source": [
    "# tamanho do dicionário\n",
    "len(eng2sp)"
   ]
  },
  {
   "cell_type": "code",
   "execution_count": 11,
   "metadata": {},
   "outputs": [
    {
     "data": {
      "text/plain": [
       "True"
      ]
     },
     "execution_count": 11,
     "metadata": {},
     "output_type": "execute_result"
    }
   ],
   "source": [
    "# operador in - consegue procurar pela chave\n",
    "'one' in eng2sp"
   ]
  },
  {
   "cell_type": "code",
   "execution_count": 12,
   "metadata": {},
   "outputs": [
    {
     "data": {
      "text/plain": [
       "False"
      ]
     },
     "execution_count": 12,
     "metadata": {},
     "output_type": "execute_result"
    }
   ],
   "source": [
    "# não funciona com o valor\n",
    "'uno' in eng2sp"
   ]
  },
  {
   "cell_type": "code",
   "execution_count": 13,
   "metadata": {},
   "outputs": [
    {
     "data": {
      "text/plain": [
       "True"
      ]
     },
     "execution_count": 13,
     "metadata": {},
     "output_type": "execute_result"
    }
   ],
   "source": [
    "# para ver se algo como um valor aparece num dicionário - método values\n",
    "vals = eng2sp.values()\n",
    "'uno' in vals"
   ]
  },
  {
   "cell_type": "code",
   "execution_count": 14,
   "metadata": {},
   "outputs": [
    {
     "data": {
      "text/plain": [
       "dict_values(['uno', 'dos', 'tres'])"
      ]
     },
     "execution_count": 14,
     "metadata": {},
     "output_type": "execute_result"
    }
   ],
   "source": [
    "vals"
   ]
  },
  {
   "cell_type": "markdown",
   "metadata": {},
   "source": [
    "O operador `in` usa algoritmos diferentes para listas e dicionácios. Para listas, ele procura os elementos da lista em ordem. Conforme a lista torna-se mais longa, o tempo de busca também fica proporcionalmente mais longo. \n",
    "Para dicionários, o Python usa um algoritmo chamado **hashtable**, que tem uma propriedade notável, o operador `in` leva praticamente o mesmo tempo na busca, não importa quantos itens estejam no dicionário."
   ]
  },
  {
   "cell_type": "code",
   "execution_count": 15,
   "metadata": {},
   "outputs": [],
   "source": [
    "def histogram(s):\n",
    "    d = dict()\n",
    "    for c in s:\n",
    "        if c not in d:\n",
    "            d[c] = 1\n",
    "        else:\n",
    "            d[c] += 1\n",
    "    return d"
   ]
  },
  {
   "cell_type": "code",
   "execution_count": 16,
   "metadata": {},
   "outputs": [
    {
     "data": {
      "text/plain": [
       "{'b': 1, 'r': 2, 'o': 2, 'n': 1, 't': 1, 's': 2, 'a': 1, 'u': 2}"
      ]
     },
     "execution_count": 16,
     "metadata": {},
     "output_type": "execute_result"
    }
   ],
   "source": [
    "histogram('brontosaurus')"
   ]
  },
  {
   "cell_type": "code",
   "execution_count": 17,
   "metadata": {},
   "outputs": [
    {
     "data": {
      "text/plain": [
       "{'a': 1}"
      ]
     },
     "execution_count": 17,
     "metadata": {},
     "output_type": "execute_result"
    }
   ],
   "source": [
    "# método get - recebe uma chave e um valor padrão\n",
    "# se a chave estiver no dicionário, retorna o valor correspondente\n",
    "h = histogram('a')\n",
    "h"
   ]
  },
  {
   "cell_type": "code",
   "execution_count": 18,
   "metadata": {},
   "outputs": [
    {
     "data": {
      "text/plain": [
       "1"
      ]
     },
     "execution_count": 18,
     "metadata": {},
     "output_type": "execute_result"
    }
   ],
   "source": [
    "h.get('a', 0)"
   ]
  },
  {
   "cell_type": "code",
   "execution_count": 19,
   "metadata": {},
   "outputs": [
    {
     "data": {
      "text/plain": [
       "0"
      ]
     },
     "execution_count": 19,
     "metadata": {},
     "output_type": "execute_result"
    }
   ],
   "source": [
    "h.get('b', 0)"
   ]
  },
  {
   "cell_type": "code",
   "execution_count": 22,
   "metadata": {},
   "outputs": [
    {
     "data": {
      "text/plain": [
       "2"
      ]
     },
     "execution_count": 22,
     "metadata": {},
     "output_type": "execute_result"
    }
   ],
   "source": [
    "h = histogram('brontosaurus')\n",
    "h.get('s', 0)"
   ]
  },
  {
   "cell_type": "code",
   "execution_count": 23,
   "metadata": {},
   "outputs": [],
   "source": [
    "# usando get para simplificar histogram\n",
    "def histogram(s):\n",
    "    d = dict()\n",
    "    for c in s:\n",
    "        d[c] = d.get(c, 0) + 1\n",
    "    return d"
   ]
  },
  {
   "cell_type": "code",
   "execution_count": 25,
   "metadata": {},
   "outputs": [
    {
     "data": {
      "text/plain": [
       "{'b': 1, 'r': 2, 'o': 2, 'n': 1, 't': 1, 's': 2, 'a': 1, 'u': 2}"
      ]
     },
     "execution_count": 25,
     "metadata": {},
     "output_type": "execute_result"
    }
   ],
   "source": [
    "histogram('brontosaurus')"
   ]
  },
  {
   "cell_type": "code",
   "execution_count": 26,
   "metadata": {},
   "outputs": [],
   "source": [
    "# se usar um dicionário em uma instrução for, ela percorre as chaves do dicionário\n",
    "def print_hist(h):\n",
    "    for c in h:\n",
    "        print(c, h[c])"
   ]
  },
  {
   "cell_type": "code",
   "execution_count": 27,
   "metadata": {},
   "outputs": [
    {
     "name": "stdout",
     "output_type": "stream",
     "text": [
      "p 1\n",
      "a 1\n",
      "r 2\n",
      "o 1\n",
      "t 1\n"
     ]
    }
   ],
   "source": [
    "h = histogram('parrot')\n",
    "print_hist(h)"
   ]
  },
  {
   "cell_type": "code",
   "execution_count": 28,
   "metadata": {},
   "outputs": [
    {
     "name": "stdout",
     "output_type": "stream",
     "text": [
      "a 1\n",
      "o 1\n",
      "p 1\n",
      "r 2\n",
      "t 1\n"
     ]
    }
   ],
   "source": [
    "# para atravessar as chaves em ordem ascendente -> utilizar sorted\n",
    "for key in sorted(h):\n",
    "    print(key, h[key])"
   ]
  },
  {
   "cell_type": "code",
   "execution_count": 29,
   "metadata": {},
   "outputs": [
    {
     "data": {
      "text/plain": [
       "2"
      ]
     },
     "execution_count": 29,
     "metadata": {},
     "output_type": "execute_result"
    }
   ],
   "source": [
    "# busca - em um dicionário d e uma chave k, se k estiver em d, retorna d[k], senão retorna v\n",
    "def search(d, k):\n",
    "    if k in d:\n",
    "        return d[k]\n",
    "    return None\n",
    "\n",
    "search(h, 'r')"
   ]
  },
  {
   "cell_type": "code",
   "execution_count": 33,
   "metadata": {},
   "outputs": [],
   "source": [
    "# busca reversa - em um dicionário d e um valor v, retorna a primeira chave que mapeia para v\n",
    "def reverse_lookup(d, v):\n",
    "    for k in d:\n",
    "        if d[k] == v:\n",
    "            return k\n",
    "    raise LookupError('value does not appear in the dictionary') # mensagem opcional\n",
    " \n",
    "# a instrucão raise gera uma exceção - neste caso, uma exceção LookupError\n",
    "# LookupError indica que a operação busca falhou"
   ]
  },
  {
   "cell_type": "code",
   "execution_count": null,
   "metadata": {},
   "outputs": [
    {
     "data": {
      "text/plain": [
       "'r'"
      ]
     },
     "execution_count": 31,
     "metadata": {},
     "output_type": "execute_result"
    }
   ],
   "source": [
    "# uma buscca reversa é muito mais lenta que uma busca no sentido normal\n",
    "h = histogram('parrot')\n",
    "reverse_lookup(h, 2)"
   ]
  },
  {
   "cell_type": "code",
   "execution_count": 34,
   "metadata": {},
   "outputs": [
    {
     "ename": "LookupError",
     "evalue": "value does not appear in the dictionary",
     "output_type": "error",
     "traceback": [
      "\u001b[1;31m---------------------------------------------------------------------------\u001b[0m",
      "\u001b[1;31mLookupError\u001b[0m                               Traceback (most recent call last)",
      "Cell \u001b[1;32mIn[34], line 1\u001b[0m\n\u001b[1;32m----> 1\u001b[0m reverse_lookup(h, \u001b[38;5;241m3\u001b[39m)\n",
      "Cell \u001b[1;32mIn[33], line 6\u001b[0m, in \u001b[0;36mreverse_lookup\u001b[1;34m(d, v)\u001b[0m\n\u001b[0;32m      4\u001b[0m     \u001b[38;5;28;01mif\u001b[39;00m d[k] \u001b[38;5;241m==\u001b[39m v:\n\u001b[0;32m      5\u001b[0m         \u001b[38;5;28;01mreturn\u001b[39;00m k\n\u001b[1;32m----> 6\u001b[0m \u001b[38;5;28;01mraise\u001b[39;00m \u001b[38;5;167;01mLookupError\u001b[39;00m(\u001b[38;5;124m'\u001b[39m\u001b[38;5;124mvalue does not appear in the dictionary\u001b[39m\u001b[38;5;124m'\u001b[39m)\n",
      "\u001b[1;31mLookupError\u001b[0m: value does not appear in the dictionary"
     ]
    }
   ],
   "source": [
    "reverse_lookup(h, 3)"
   ]
  },
  {
   "cell_type": "code",
   "execution_count": 35,
   "metadata": {},
   "outputs": [],
   "source": [
    "# as listas podem aparecer como valores em um dicionário\n",
    "# função que inverte um dicionário\n",
    "def invert_dict(d):\n",
    "    inverse = dict()\n",
    "    for key in d:\n",
    "        val = d[key]\n",
    "        if val not in inverse:\n",
    "            inverse[val] = [key]\n",
    "        else:\n",
    "            inverse[val].append(key)\n",
    "    return inverse"
   ]
  },
  {
   "cell_type": "code",
   "execution_count": 36,
   "metadata": {},
   "outputs": [
    {
     "data": {
      "text/plain": [
       "{'p': 1, 'a': 1, 'r': 2, 'o': 1, 't': 1}"
      ]
     },
     "execution_count": 36,
     "metadata": {},
     "output_type": "execute_result"
    }
   ],
   "source": [
    "hist = histogram('parrot')\n",
    "hist"
   ]
  },
  {
   "cell_type": "code",
   "execution_count": 37,
   "metadata": {},
   "outputs": [
    {
     "data": {
      "text/plain": [
       "{1: ['p', 'a', 'o', 't'], 2: ['r']}"
      ]
     },
     "execution_count": 37,
     "metadata": {},
     "output_type": "execute_result"
    }
   ],
   "source": [
    "inverse = invert_dict(hist)\n",
    "inverse"
   ]
  },
  {
   "cell_type": "code",
   "execution_count": 38,
   "metadata": {},
   "outputs": [
    {
     "ename": "TypeError",
     "evalue": "unhashable type: 'list'",
     "output_type": "error",
     "traceback": [
      "\u001b[1;31m---------------------------------------------------------------------------\u001b[0m",
      "\u001b[1;31mTypeError\u001b[0m                                 Traceback (most recent call last)",
      "Cell \u001b[1;32mIn[38], line 5\u001b[0m\n\u001b[0;32m      3\u001b[0m t \u001b[38;5;241m=\u001b[39m [\u001b[38;5;241m1\u001b[39m, \u001b[38;5;241m2\u001b[39m, \u001b[38;5;241m3\u001b[39m]\n\u001b[0;32m      4\u001b[0m d \u001b[38;5;241m=\u001b[39m \u001b[38;5;28mdict\u001b[39m()\n\u001b[1;32m----> 5\u001b[0m d[t] \u001b[38;5;241m=\u001b[39m \u001b[38;5;124m'\u001b[39m\u001b[38;5;124moops\u001b[39m\u001b[38;5;124m'\u001b[39m\n",
      "\u001b[1;31mTypeError\u001b[0m: unhashable type: 'list'"
     ]
    }
   ],
   "source": [
    "# as listas podem ser valores em um dicionário, mas não podem ser chaves\n",
    "# se tentar, ocorre uma exceção TypeError\n",
    "t = [1, 2, 3]\n",
    "d = dict()\n",
    "d[t] = 'oops'"
   ]
  },
  {
   "cell_type": "markdown",
   "metadata": {},
   "source": [
    "Um dicionário é implementado usando uma **hashtable** e isso significa que é preciso que as chaves possam ser **hashable** (\"dispersáveis).\n",
    "**Hash** é uma função que recebe um valor (de qualquer tipo) e retorna um número inteiro. Dicionários usam esses números inteiros, chamados de **hashes**, para armazenar e procurar pares chave-valor.\n",
    "\n",
    "Esse sistema funciona perfeitamente se as chaves forem imutáveis. Porém se as chaves forem mutáveis, como listas, coisas ruins podem acontecer."
   ]
  },
  {
   "cell_type": "code",
   "execution_count": 39,
   "metadata": {},
   "outputs": [
    {
     "data": {
      "text/plain": [
       "21"
      ]
     },
     "execution_count": 39,
     "metadata": {},
     "output_type": "execute_result"
    }
   ],
   "source": [
    "# Um valor calculado anteriormente que é guardado para uso posterior é chamado de memo\n",
    "# versão memo de fibonacci\n",
    "\n",
    "known = {0: 0, 1: 1}\n",
    "def fibonacci(n):\n",
    "    if n in known:\n",
    "        return known[n]\n",
    "    res = fibonacci(n-1) + fibonacci(n-2)\n",
    "    known[n] = res\n",
    "    return res\n",
    "\n",
    "fibonacci(8)"
   ]
  },
  {
   "cell_type": "code",
   "execution_count": 40,
   "metadata": {},
   "outputs": [
    {
     "data": {
      "text/plain": [
       "{0: 0, 1: 1, 2: 1, 3: 2, 4: 3, 5: 5, 6: 8, 7: 13, 8: 21}"
      ]
     },
     "execution_count": 40,
     "metadata": {},
     "output_type": "execute_result"
    }
   ],
   "source": [
    "known"
   ]
  },
  {
   "cell_type": "code",
   "execution_count": 1,
   "metadata": {},
   "outputs": [],
   "source": [
    "# variáveis globais são úteis para valores que são constantes para o programa\n",
    "verbose = True\n",
    "def example1():\n",
    "    if verbose:\n",
    "        print('Running example1')"
   ]
  },
  {
   "cell_type": "code",
   "execution_count": 3,
   "metadata": {},
   "outputs": [],
   "source": [
    "been_called = False\n",
    "\n",
    "\n",
    "# o valor de been_called não se altera - a função cria uma nova variável local chamada been_called\n",
    "# a variável local somequando a chamada de função termina\n",
    "def example2():\n",
    "    been_called = True # errado"
   ]
  },
  {
   "cell_type": "code",
   "execution_count": 5,
   "metadata": {},
   "outputs": [
    {
     "name": "stdout",
     "output_type": "stream",
     "text": [
      "False\n",
      "True\n"
     ]
    }
   ],
   "source": [
    "# instrução global - informa que a variável é global (não criar uma nova variável local)\n",
    "def example2():\n",
    "    global been_called\n",
    "    been_called = True\n",
    "    \n",
    "print(been_called)\n",
    "example2()\n",
    "print(been_called)"
   ]
  },
  {
   "cell_type": "code",
   "execution_count": 6,
   "metadata": {},
   "outputs": [
    {
     "ename": "UnboundLocalError",
     "evalue": "cannot access local variable 'count' where it is not associated with a value",
     "output_type": "error",
     "traceback": [
      "\u001b[1;31m---------------------------------------------------------------------------\u001b[0m",
      "\u001b[1;31mUnboundLocalError\u001b[0m                         Traceback (most recent call last)",
      "Cell \u001b[1;32mIn[6], line 6\u001b[0m\n\u001b[0;32m      3\u001b[0m \u001b[38;5;28;01mdef\u001b[39;00m \u001b[38;5;21mexample3\u001b[39m():\n\u001b[0;32m      4\u001b[0m     count \u001b[38;5;241m=\u001b[39m count \u001b[38;5;241m+\u001b[39m \u001b[38;5;241m1\u001b[39m \u001b[38;5;66;03m# errado\u001b[39;00m\n\u001b[1;32m----> 6\u001b[0m example3()\n\u001b[0;32m      7\u001b[0m \u001b[38;5;28mprint\u001b[39m(count)\n",
      "Cell \u001b[1;32mIn[6], line 4\u001b[0m, in \u001b[0;36mexample3\u001b[1;34m()\u001b[0m\n\u001b[0;32m      3\u001b[0m \u001b[38;5;28;01mdef\u001b[39;00m \u001b[38;5;21mexample3\u001b[39m():\n\u001b[1;32m----> 4\u001b[0m     count \u001b[38;5;241m=\u001b[39m count \u001b[38;5;241m+\u001b[39m \u001b[38;5;241m1\u001b[39m\n",
      "\u001b[1;31mUnboundLocalError\u001b[0m: cannot access local variable 'count' where it is not associated with a value"
     ]
    }
   ],
   "source": [
    "# mais exemplos \n",
    "count = 0\n",
    "def example3():\n",
    "    count = count + 1 # errado\n",
    "    \n",
    "example3()\n",
    "print(count)"
   ]
  },
  {
   "cell_type": "code",
   "execution_count": null,
   "metadata": {},
   "outputs": [
    {
     "name": "stdout",
     "output_type": "stream",
     "text": [
      "1\n"
     ]
    }
   ],
   "source": [
    "def example3():\n",
    "    global count\n",
    "    count += 1 # certo\n",
    "    \n",
    "example3()\n",
    "print(count)"
   ]
  },
  {
   "cell_type": "code",
   "execution_count": null,
   "metadata": {},
   "outputs": [
    {
     "name": "stdout",
     "output_type": "stream",
     "text": [
      "{0: 0, 1: 1, 2: 1}\n"
     ]
    }
   ],
   "source": [
    "# se uma variável global se referir a um valor mutável, pode ser alterada sem declarar a variável\n",
    "\n",
    "known = {0: 0, 1: 1}\n",
    "def example4():\n",
    "    known[2] = 1\n",
    "    \n",
    "example4()\n",
    "print(known)\n",
    "\n",
    "# então é possível alterar uma lista ou dicionário sem usar a instrução global"
   ]
  },
  {
   "cell_type": "markdown",
   "metadata": {},
   "source": [
    "## Glossário\n",
    "\n",
    "- **mapeamento**:\n",
    "    - Relação na qual cada elemento de um conjunto corresponde a um elemento de outro conjunto.\n",
    "\n",
    "- **dicionário**:\n",
    "    - Mapeamento de chaves aos seus valores correspondentes.\n",
    "\n",
    "- **par chave-valor**:\n",
    "    - Representação do mapeamento de uma chave a um valor.\n",
    "\n",
    "- **chave**:\n",
    "    - Objeto que aparece em um dicionário como a primeira parte de um par chave-valor.\n",
    "\n",
    "- **valor**:\n",
    "    - Objeto que aparece em um dicionário como a segunda parte de um par chave-valor. Isso é mais específico que o nosso uso anterior da palavra “valor”.\n",
    "\n",
    "- **implementação**:\n",
    "    - Uma forma de executar um cálculo.\n",
    "\n",
    "- **hashtable**:\n",
    "    - Algoritmo usado para implementar dicionários de Python.\n",
    "\n",
    "- **função hash**:\n",
    "    - Função usada por uma hashtable para calcular a posição de uma chave.\n",
    "\n",
    "- **hashable**:\n",
    "    - Um tipo que tem uma função hash. Tipos imutáveis como números inteiros, de ponto flutuante e strings são hashable; tipos mutáveis, como listas e dicionários, não são..\n",
    "\n",
    "- **busca**:\n",
    "    - Operação de dicionário que recebe uma chave e encontra o valor correspondente.\n",
    "\n",
    "- **busca reversa**:\n",
    "    - Operação de dicionário que recebe um valor e encontra uma ou várias chaves que o mapeiem.\n",
    "\n",
    "- **instrução raise**:\n",
    "    - Instrução que (deliberadamente) causa uma exceção.\n",
    "\n",
    "- **item avulso (singleton)**:\n",
    "    - Uma lista (ou outra sequência) com um único elemento.\n",
    "\n",
    "- **gráfico de chamada**:\n",
    "    - Um diagrama que mostra cada frame criado durante a execução de um programa, com uma flecha apontando quem chama a quem é chamado.\n",
    "\n",
    "- **memo**:\n",
    "    - Valor já calculado, guardado para não ter que fazer o mesmo cálculo no futuro.\n",
    "\n",
    "- **variável global**:\n",
    "    - Variável definida fora de uma função. As variáveis globais podem ser acessadas de qualquer função.\n",
    "\n",
    "- **instrução global**:\n",
    "    - Instrução que declara um nome de variável global.\n",
    "\n",
    "- **flag**:\n",
    "    - Variável booleana usada para indicar se uma condição é verdadeira.\n",
    "\n",
    "- **declaração**:\n",
    "    - Instrução tal como global, que diz ao interpretador algo a respeito de uma variável.\n",
    "\n",
    "\n",
    "## Exercícios\n",
    "\n",
    "### Exercício 11.1\n",
    "\n",
    "Escreva uma função que leia as palavras em words.txt e guarde-as como chaves em um dicionário. Não importa quais são os valores. Então você pode usar o operador in como uma forma rápida de verificar se uma string está no dicionário.\n",
    "\n",
    "Se fez o Exercício 10.10, você pode comparar a velocidade desta implementação com o operador in de listas e a busca por bisseção.\n"
   ]
  },
  {
   "cell_type": "code",
   "execution_count": 13,
   "metadata": {},
   "outputs": [],
   "source": [
    "fin = open('words.txt')\n",
    "dict = {}\n",
    "\n",
    "for line in fin:\n",
    "    word = line.strip()\n",
    "    # word é chave, valor é None\n",
    "    dict[word] = None"
   ]
  },
  {
   "cell_type": "code",
   "execution_count": 15,
   "metadata": {},
   "outputs": [
    {
     "data": {
      "text/plain": [
       "True"
      ]
     },
     "execution_count": 15,
     "metadata": {},
     "output_type": "execute_result"
    }
   ],
   "source": [
    "'storytellings' in dict"
   ]
  },
  {
   "cell_type": "code",
   "execution_count": 17,
   "metadata": {},
   "outputs": [],
   "source": [
    "# utilizando o bisect \n",
    "# utilizando o modulo bisect\n",
    "import bisect\n",
    "\n",
    "def read_words_append(filename):\n",
    "    words = []\n",
    "    with open(filename, 'r') as file:\n",
    "        for line in file:\n",
    "            word = line.strip()\n",
    "            words.append(word)\n",
    "    return words\n",
    "\n",
    "read_words_append('words.txt')\n",
    "\n",
    "def is_bisect(sorted_lst, target):\n",
    "    index = bisect.bisect_left(sorted_lst, target)\n",
    "    \n",
    "    if index != len(sorted_lst) and sorted_lst[index] == target:\n",
    "        return index\n",
    "    return None\n",
    "\n",
    "words_lst = read_words_append('words.txt')"
   ]
  },
  {
   "cell_type": "code",
   "execution_count": 18,
   "metadata": {},
   "outputs": [
    {
     "name": "stdout",
     "output_type": "stream",
     "text": [
      "96377\n"
     ]
    }
   ],
   "source": [
    "print(is_bisect(words_lst, 'storytellings'))"
   ]
  },
  {
   "cell_type": "markdown",
   "metadata": {},
   "source": [
    "Guardar as palavras de words.txt em um dicionário e procurar uma chave é geralmente mais rápido do que guardar as palavras em uma lista e implementar um método de busca como o bisect.\n",
    "\n",
    "- Dicionário\n",
    "    - Tempo de busca: O(1) em média, devido à implementação de tabelas hash.\n",
    "    - Inserção: O(1) em média.\n",
    "\n",
    "- Lista com bisect (lista precisa estar ordenada)\n",
    "    - Tempo de busca: O(log n), pois bisect realiza uma busca binária em uma lista ordenada.\n",
    "    - Inserção: O(n) no pior caso, pois inserir um elemento na posição correta pode exigir o deslocamento de outros elementos.\n",
    "\n",
    "### Exercício 11.2\n",
    "\n",
    "Leia a documentação do método de dicionário ```setdefault``` e use-o para escrever uma versão mais concisa de ```invert_dict```.\n",
    "\n",
    "Solução: http://thinkpython2.com/code/invert_dict.py."
   ]
  },
  {
   "cell_type": "code",
   "execution_count": null,
   "metadata": {},
   "outputs": [],
   "source": [
    "# implementação anterior\n",
    "\n",
    "def invert_dict(d):\n",
    "    inverse = {}\n",
    "    for key in d:\n",
    "        val = d[key]\n",
    "        if val not in inverse:\n",
    "            inverse[val] = [key]\n",
    "        else:\n",
    "            inverse[val].append(key)\n",
    "    return inverse"
   ]
  },
  {
   "cell_type": "code",
   "execution_count": 32,
   "metadata": {},
   "outputs": [],
   "source": [
    "fin = open('words.txt')\n",
    "dict_words = {}\n",
    "\n",
    "for line in fin:\n",
    "    word = line.strip()\n",
    "    # word é chave, valor é None\n",
    "    dict_words[word] = None\n",
    "    \n",
    "fin.close()"
   ]
  },
  {
   "cell_type": "code",
   "execution_count": 33,
   "metadata": {},
   "outputs": [],
   "source": [
    "inverse_dict = invert_dict(dict_words)"
   ]
  },
  {
   "cell_type": "code",
   "execution_count": 34,
   "metadata": {},
   "outputs": [],
   "source": [
    "# versão mais concisa\n",
    "\n",
    "def invert_dict(d):\n",
    "    inverse = {}\n",
    "    for key, val in d.items():\n",
    "        inverse.setdefault(val, []).append(key)"
   ]
  },
  {
   "cell_type": "code",
   "execution_count": 35,
   "metadata": {},
   "outputs": [],
   "source": [
    "inverse_dict = invert_dict(dict_words)"
   ]
  },
  {
   "cell_type": "markdown",
   "metadata": {},
   "source": [
    "### Exercício 11.3\n",
    "\n",
    "Memorize a função de Ackermann do Exercício 6.2 e veja se a memorização permite avaliar a função com argumentos maiores. Dica: não.\n",
    "\n",
    "Solução: http://thinkpython2.com/code/ackermann_memo.py."
   ]
  },
  {
   "cell_type": "code",
   "execution_count": 45,
   "metadata": {},
   "outputs": [
    {
     "name": "stdout",
     "output_type": "stream",
     "text": [
      "125\n"
     ]
    }
   ],
   "source": [
    "# solução da 6.2 - função de Ackermann\n",
    "\n",
    "def ack(m, n):\n",
    "    if m == 0:\n",
    "        return n + 1\n",
    "    elif m > 0 and n == 0:\n",
    "        return ack(m - 1, 1)\n",
    "    elif m > 0 and n > 0:\n",
    "        return ack(m - 1, ack(m , n - 1))\n",
    "        \n",
    "print(ack(3, 4))"
   ]
  },
  {
   "cell_type": "code",
   "execution_count": 46,
   "metadata": {},
   "outputs": [
    {
     "data": {
      "text/plain": [
       "125"
      ]
     },
     "execution_count": 46,
     "metadata": {},
     "output_type": "execute_result"
    }
   ],
   "source": [
    "memo = {}\n",
    "\n",
    "def ack2(m, n, memo={}):\n",
    "    result = 0\n",
    "    if (m, n) in memo:\n",
    "        return memo[m, n]\n",
    "    if m == 0:\n",
    "        result = n + 1\n",
    "    elif m > 0 and n == 0:\n",
    "        result = ack2(m - 1, 1, memo)\n",
    "    elif m > 0 and n > 0:\n",
    "        result = ack2(m - 1, ack2(m , n - 1, memo), memo)\n",
    "\n",
    "    memo[m, n] = result\n",
    "    #result = memo[m, n]\n",
    "    return result\n",
    "\n",
    "ack2(3, 4, memo)\n",
    "#print(ack2(3, 4))"
   ]
  },
  {
   "cell_type": "code",
   "execution_count": 48,
   "metadata": {},
   "outputs": [
    {
     "ename": "RecursionError",
     "evalue": "maximum recursion depth exceeded",
     "output_type": "error",
     "traceback": [
      "\u001b[1;31m---------------------------------------------------------------------------\u001b[0m",
      "\u001b[1;31mRecursionError\u001b[0m                            Traceback (most recent call last)",
      "Cell \u001b[1;32mIn[48], line 1\u001b[0m\n\u001b[1;32m----> 1\u001b[0m \u001b[38;5;28mprint\u001b[39m(ack(\u001b[38;5;241m4\u001b[39m, \u001b[38;5;241m5\u001b[39m))\n",
      "Cell \u001b[1;32mIn[45], line 9\u001b[0m, in \u001b[0;36mack\u001b[1;34m(m, n)\u001b[0m\n\u001b[0;32m      7\u001b[0m     \u001b[38;5;28;01mreturn\u001b[39;00m ack(m \u001b[38;5;241m-\u001b[39m \u001b[38;5;241m1\u001b[39m, \u001b[38;5;241m1\u001b[39m)\n\u001b[0;32m      8\u001b[0m \u001b[38;5;28;01melif\u001b[39;00m m \u001b[38;5;241m>\u001b[39m \u001b[38;5;241m0\u001b[39m \u001b[38;5;129;01mand\u001b[39;00m n \u001b[38;5;241m>\u001b[39m \u001b[38;5;241m0\u001b[39m:\n\u001b[1;32m----> 9\u001b[0m     \u001b[38;5;28;01mreturn\u001b[39;00m ack(m \u001b[38;5;241m-\u001b[39m \u001b[38;5;241m1\u001b[39m, ack(m , n \u001b[38;5;241m-\u001b[39m \u001b[38;5;241m1\u001b[39m))\n",
      "Cell \u001b[1;32mIn[45], line 9\u001b[0m, in \u001b[0;36mack\u001b[1;34m(m, n)\u001b[0m\n\u001b[0;32m      7\u001b[0m     \u001b[38;5;28;01mreturn\u001b[39;00m ack(m \u001b[38;5;241m-\u001b[39m \u001b[38;5;241m1\u001b[39m, \u001b[38;5;241m1\u001b[39m)\n\u001b[0;32m      8\u001b[0m \u001b[38;5;28;01melif\u001b[39;00m m \u001b[38;5;241m>\u001b[39m \u001b[38;5;241m0\u001b[39m \u001b[38;5;129;01mand\u001b[39;00m n \u001b[38;5;241m>\u001b[39m \u001b[38;5;241m0\u001b[39m:\n\u001b[1;32m----> 9\u001b[0m     \u001b[38;5;28;01mreturn\u001b[39;00m ack(m \u001b[38;5;241m-\u001b[39m \u001b[38;5;241m1\u001b[39m, ack(m , n \u001b[38;5;241m-\u001b[39m \u001b[38;5;241m1\u001b[39m))\n",
      "    \u001b[1;31m[... skipping similar frames: ack at line 9 (2969 times)]\u001b[0m\n",
      "Cell \u001b[1;32mIn[45], line 9\u001b[0m, in \u001b[0;36mack\u001b[1;34m(m, n)\u001b[0m\n\u001b[0;32m      7\u001b[0m     \u001b[38;5;28;01mreturn\u001b[39;00m ack(m \u001b[38;5;241m-\u001b[39m \u001b[38;5;241m1\u001b[39m, \u001b[38;5;241m1\u001b[39m)\n\u001b[0;32m      8\u001b[0m \u001b[38;5;28;01melif\u001b[39;00m m \u001b[38;5;241m>\u001b[39m \u001b[38;5;241m0\u001b[39m \u001b[38;5;129;01mand\u001b[39;00m n \u001b[38;5;241m>\u001b[39m \u001b[38;5;241m0\u001b[39m:\n\u001b[1;32m----> 9\u001b[0m     \u001b[38;5;28;01mreturn\u001b[39;00m ack(m \u001b[38;5;241m-\u001b[39m \u001b[38;5;241m1\u001b[39m, ack(m , n \u001b[38;5;241m-\u001b[39m \u001b[38;5;241m1\u001b[39m))\n",
      "Cell \u001b[1;32mIn[45], line 7\u001b[0m, in \u001b[0;36mack\u001b[1;34m(m, n)\u001b[0m\n\u001b[0;32m      5\u001b[0m     \u001b[38;5;28;01mreturn\u001b[39;00m n \u001b[38;5;241m+\u001b[39m \u001b[38;5;241m1\u001b[39m\n\u001b[0;32m      6\u001b[0m \u001b[38;5;28;01melif\u001b[39;00m m \u001b[38;5;241m>\u001b[39m \u001b[38;5;241m0\u001b[39m \u001b[38;5;129;01mand\u001b[39;00m n \u001b[38;5;241m==\u001b[39m \u001b[38;5;241m0\u001b[39m:\n\u001b[1;32m----> 7\u001b[0m     \u001b[38;5;28;01mreturn\u001b[39;00m ack(m \u001b[38;5;241m-\u001b[39m \u001b[38;5;241m1\u001b[39m, \u001b[38;5;241m1\u001b[39m)\n\u001b[0;32m      8\u001b[0m \u001b[38;5;28;01melif\u001b[39;00m m \u001b[38;5;241m>\u001b[39m \u001b[38;5;241m0\u001b[39m \u001b[38;5;129;01mand\u001b[39;00m n \u001b[38;5;241m>\u001b[39m \u001b[38;5;241m0\u001b[39m:\n\u001b[0;32m      9\u001b[0m     \u001b[38;5;28;01mreturn\u001b[39;00m ack(m \u001b[38;5;241m-\u001b[39m \u001b[38;5;241m1\u001b[39m, ack(m , n \u001b[38;5;241m-\u001b[39m \u001b[38;5;241m1\u001b[39m))\n",
      "\u001b[1;31mRecursionError\u001b[0m: maximum recursion depth exceeded"
     ]
    }
   ],
   "source": [
    "print(ack(4, 5))"
   ]
  },
  {
   "cell_type": "code",
   "execution_count": 49,
   "metadata": {},
   "outputs": [
    {
     "ename": "RecursionError",
     "evalue": "maximum recursion depth exceeded",
     "output_type": "error",
     "traceback": [
      "\u001b[1;31m---------------------------------------------------------------------------\u001b[0m",
      "\u001b[1;31mRecursionError\u001b[0m                            Traceback (most recent call last)",
      "Cell \u001b[1;32mIn[49], line 2\u001b[0m\n\u001b[0;32m      1\u001b[0m memo \u001b[38;5;241m=\u001b[39m {}\n\u001b[1;32m----> 2\u001b[0m \u001b[38;5;28mprint\u001b[39m(ack2(\u001b[38;5;241m4\u001b[39m, \u001b[38;5;241m5\u001b[39m, memo))\n",
      "Cell \u001b[1;32mIn[46], line 12\u001b[0m, in \u001b[0;36mack2\u001b[1;34m(m, n, memo)\u001b[0m\n\u001b[0;32m     10\u001b[0m     result \u001b[38;5;241m=\u001b[39m ack2(m \u001b[38;5;241m-\u001b[39m \u001b[38;5;241m1\u001b[39m, \u001b[38;5;241m1\u001b[39m, memo)\n\u001b[0;32m     11\u001b[0m \u001b[38;5;28;01melif\u001b[39;00m m \u001b[38;5;241m>\u001b[39m \u001b[38;5;241m0\u001b[39m \u001b[38;5;129;01mand\u001b[39;00m n \u001b[38;5;241m>\u001b[39m \u001b[38;5;241m0\u001b[39m:\n\u001b[1;32m---> 12\u001b[0m     result \u001b[38;5;241m=\u001b[39m ack2(m \u001b[38;5;241m-\u001b[39m \u001b[38;5;241m1\u001b[39m, ack2(m , n \u001b[38;5;241m-\u001b[39m \u001b[38;5;241m1\u001b[39m, memo), memo)\n\u001b[0;32m     14\u001b[0m memo[m, n] \u001b[38;5;241m=\u001b[39m result\n\u001b[0;32m     15\u001b[0m \u001b[38;5;66;03m#result = memo[m, n]\u001b[39;00m\n",
      "Cell \u001b[1;32mIn[46], line 12\u001b[0m, in \u001b[0;36mack2\u001b[1;34m(m, n, memo)\u001b[0m\n\u001b[0;32m     10\u001b[0m     result \u001b[38;5;241m=\u001b[39m ack2(m \u001b[38;5;241m-\u001b[39m \u001b[38;5;241m1\u001b[39m, \u001b[38;5;241m1\u001b[39m, memo)\n\u001b[0;32m     11\u001b[0m \u001b[38;5;28;01melif\u001b[39;00m m \u001b[38;5;241m>\u001b[39m \u001b[38;5;241m0\u001b[39m \u001b[38;5;129;01mand\u001b[39;00m n \u001b[38;5;241m>\u001b[39m \u001b[38;5;241m0\u001b[39m:\n\u001b[1;32m---> 12\u001b[0m     result \u001b[38;5;241m=\u001b[39m ack2(m \u001b[38;5;241m-\u001b[39m \u001b[38;5;241m1\u001b[39m, ack2(m , n \u001b[38;5;241m-\u001b[39m \u001b[38;5;241m1\u001b[39m, memo), memo)\n\u001b[0;32m     14\u001b[0m memo[m, n] \u001b[38;5;241m=\u001b[39m result\n\u001b[0;32m     15\u001b[0m \u001b[38;5;66;03m#result = memo[m, n]\u001b[39;00m\n",
      "    \u001b[1;31m[... skipping similar frames: ack2 at line 12 (2970 times)]\u001b[0m\n",
      "Cell \u001b[1;32mIn[46], line 12\u001b[0m, in \u001b[0;36mack2\u001b[1;34m(m, n, memo)\u001b[0m\n\u001b[0;32m     10\u001b[0m     result \u001b[38;5;241m=\u001b[39m ack2(m \u001b[38;5;241m-\u001b[39m \u001b[38;5;241m1\u001b[39m, \u001b[38;5;241m1\u001b[39m, memo)\n\u001b[0;32m     11\u001b[0m \u001b[38;5;28;01melif\u001b[39;00m m \u001b[38;5;241m>\u001b[39m \u001b[38;5;241m0\u001b[39m \u001b[38;5;129;01mand\u001b[39;00m n \u001b[38;5;241m>\u001b[39m \u001b[38;5;241m0\u001b[39m:\n\u001b[1;32m---> 12\u001b[0m     result \u001b[38;5;241m=\u001b[39m ack2(m \u001b[38;5;241m-\u001b[39m \u001b[38;5;241m1\u001b[39m, ack2(m , n \u001b[38;5;241m-\u001b[39m \u001b[38;5;241m1\u001b[39m, memo), memo)\n\u001b[0;32m     14\u001b[0m memo[m, n] \u001b[38;5;241m=\u001b[39m result\n\u001b[0;32m     15\u001b[0m \u001b[38;5;66;03m#result = memo[m, n]\u001b[39;00m\n",
      "\u001b[1;31mRecursionError\u001b[0m: maximum recursion depth exceeded"
     ]
    }
   ],
   "source": [
    "memo = {}\n",
    "print(ack2(4, 5, memo))"
   ]
  },
  {
   "cell_type": "code",
   "execution_count": 50,
   "metadata": {},
   "outputs": [
    {
     "name": "stdout",
     "output_type": "stream",
     "text": [
      "125\n"
     ]
    }
   ],
   "source": [
    "print(ack2(3, 4, memo))"
   ]
  },
  {
   "cell_type": "code",
   "execution_count": null,
   "metadata": {},
   "outputs": [
    {
     "ename": "RecursionError",
     "evalue": "maximum recursion depth exceeded",
     "output_type": "error",
     "traceback": [
      "\u001b[1;31m---------------------------------------------------------------------------\u001b[0m",
      "\u001b[1;31mRecursionError\u001b[0m                            Traceback (most recent call last)",
      "Cell \u001b[1;32mIn[51], line 1\u001b[0m\n\u001b[1;32m----> 1\u001b[0m \u001b[38;5;28mprint\u001b[39m(ack2(\u001b[38;5;241m4\u001b[39m, \u001b[38;5;241m5\u001b[39m, memo))\n",
      "Cell \u001b[1;32mIn[46], line 12\u001b[0m, in \u001b[0;36mack2\u001b[1;34m(m, n, memo)\u001b[0m\n\u001b[0;32m     10\u001b[0m     result \u001b[38;5;241m=\u001b[39m ack2(m \u001b[38;5;241m-\u001b[39m \u001b[38;5;241m1\u001b[39m, \u001b[38;5;241m1\u001b[39m, memo)\n\u001b[0;32m     11\u001b[0m \u001b[38;5;28;01melif\u001b[39;00m m \u001b[38;5;241m>\u001b[39m \u001b[38;5;241m0\u001b[39m \u001b[38;5;129;01mand\u001b[39;00m n \u001b[38;5;241m>\u001b[39m \u001b[38;5;241m0\u001b[39m:\n\u001b[1;32m---> 12\u001b[0m     result \u001b[38;5;241m=\u001b[39m ack2(m \u001b[38;5;241m-\u001b[39m \u001b[38;5;241m1\u001b[39m, ack2(m , n \u001b[38;5;241m-\u001b[39m \u001b[38;5;241m1\u001b[39m, memo), memo)\n\u001b[0;32m     14\u001b[0m memo[m, n] \u001b[38;5;241m=\u001b[39m result\n\u001b[0;32m     15\u001b[0m \u001b[38;5;66;03m#result = memo[m, n]\u001b[39;00m\n",
      "Cell \u001b[1;32mIn[46], line 12\u001b[0m, in \u001b[0;36mack2\u001b[1;34m(m, n, memo)\u001b[0m\n\u001b[0;32m     10\u001b[0m     result \u001b[38;5;241m=\u001b[39m ack2(m \u001b[38;5;241m-\u001b[39m \u001b[38;5;241m1\u001b[39m, \u001b[38;5;241m1\u001b[39m, memo)\n\u001b[0;32m     11\u001b[0m \u001b[38;5;28;01melif\u001b[39;00m m \u001b[38;5;241m>\u001b[39m \u001b[38;5;241m0\u001b[39m \u001b[38;5;129;01mand\u001b[39;00m n \u001b[38;5;241m>\u001b[39m \u001b[38;5;241m0\u001b[39m:\n\u001b[1;32m---> 12\u001b[0m     result \u001b[38;5;241m=\u001b[39m ack2(m \u001b[38;5;241m-\u001b[39m \u001b[38;5;241m1\u001b[39m, ack2(m , n \u001b[38;5;241m-\u001b[39m \u001b[38;5;241m1\u001b[39m, memo), memo)\n\u001b[0;32m     14\u001b[0m memo[m, n] \u001b[38;5;241m=\u001b[39m result\n\u001b[0;32m     15\u001b[0m \u001b[38;5;66;03m#result = memo[m, n]\u001b[39;00m\n",
      "    \u001b[1;31m[... skipping similar frames: ack2 at line 12 (2970 times)]\u001b[0m\n",
      "Cell \u001b[1;32mIn[46], line 12\u001b[0m, in \u001b[0;36mack2\u001b[1;34m(m, n, memo)\u001b[0m\n\u001b[0;32m     10\u001b[0m     result \u001b[38;5;241m=\u001b[39m ack2(m \u001b[38;5;241m-\u001b[39m \u001b[38;5;241m1\u001b[39m, \u001b[38;5;241m1\u001b[39m, memo)\n\u001b[0;32m     11\u001b[0m \u001b[38;5;28;01melif\u001b[39;00m m \u001b[38;5;241m>\u001b[39m \u001b[38;5;241m0\u001b[39m \u001b[38;5;129;01mand\u001b[39;00m n \u001b[38;5;241m>\u001b[39m \u001b[38;5;241m0\u001b[39m:\n\u001b[1;32m---> 12\u001b[0m     result \u001b[38;5;241m=\u001b[39m ack2(m \u001b[38;5;241m-\u001b[39m \u001b[38;5;241m1\u001b[39m, ack2(m , n \u001b[38;5;241m-\u001b[39m \u001b[38;5;241m1\u001b[39m, memo), memo)\n\u001b[0;32m     14\u001b[0m memo[m, n] \u001b[38;5;241m=\u001b[39m result\n\u001b[0;32m     15\u001b[0m \u001b[38;5;66;03m#result = memo[m, n]\u001b[39;00m\n",
      "\u001b[1;31mRecursionError\u001b[0m: maximum recursion depth exceeded"
     ]
    }
   ],
   "source": [
    "# mesmo com valores salvos em memo o programa crasha\n",
    "\n",
    "print(ack2(4, 5, memo))"
   ]
  },
  {
   "cell_type": "markdown",
   "metadata": {},
   "source": [
    "### Exercício 11.4\n",
    "\n",
    "Se fez o Exercício 10.7, você já tem uma função chamada ```has_duplicates```, que recebe uma lista como parâmetro e retorna ```True``` se houver algum objeto que aparece mais de uma vez na lista.\n",
    "\n",
    "Use um dicionário para escrever uma versão mais rápida e simples de has_duplicates.\n",
    "\n",
    "Solução: http://thinkpython2.com/code/has_duplicates.py."
   ]
  },
  {
   "cell_type": "code",
   "execution_count": 53,
   "metadata": {},
   "outputs": [
    {
     "name": "stdout",
     "output_type": "stream",
     "text": [
      "False\n",
      "True\n"
     ]
    }
   ],
   "source": [
    "# exercício 10.7\n",
    "\n",
    "def has_duplicates(lst):\n",
    "    # set remove automaticamente elementos duplicados\n",
    "    return len(lst) != len(set(lst))\n",
    "\n",
    "print(has_duplicates([1, 2, 3, 4]))  # Saída: False\n",
    "print(has_duplicates([1, 2, 2, 3]))  # Saída: True"
   ]
  },
  {
   "cell_type": "code",
   "execution_count": null,
   "metadata": {},
   "outputs": [
    {
     "name": "stdout",
     "output_type": "stream",
     "text": [
      "True\n"
     ]
    }
   ],
   "source": [
    "def has_duplicates(dict):\n",
    "    values = list(dict.values())\n",
    "    return len(values) != len(set(values))\n",
    "\n",
    "example_dict = {'a': 1, 'b': 2, 'c': 3, 'd': 2}\n",
    "print(has_duplicates(example_dict)) # Saída: True - 'b' e 'd' possuem o mesmo valor"
   ]
  },
  {
   "cell_type": "markdown",
   "metadata": {},
   "source": [
    "### Exercício 11.5\n",
    "\n",
    "Duas palavras são “pares rotacionados” se for possível rotacionar um deles e chegar ao outro (ver ```rotate_word``` no Exercício 8.5).\n",
    "\n",
    "Escreva um programa que leia uma lista de palavras e encontre todos os pares rotacionados.\n",
    "\n",
    "Solução: http://thinkpython2.com/code/rotate_pairs.py."
   ]
  },
  {
   "cell_type": "code",
   "execution_count": 55,
   "metadata": {},
   "outputs": [
    {
     "name": "stdout",
     "output_type": "stream",
     "text": [
      "HAL\n"
     ]
    }
   ],
   "source": [
    "# exercício 8.5\n",
    "\n",
    "def rotate_word(word, n):\n",
    "    new_word = ''\n",
    "    for letter in word:\n",
    "        new_word += chr(ord(letter) + n)\n",
    "    return new_word\n",
    "\n",
    "print(rotate_word('IBM', -1))"
   ]
  },
  {
   "cell_type": "code",
   "execution_count": 56,
   "metadata": {},
   "outputs": [
    {
     "name": "stdout",
     "output_type": "stream",
     "text": [
      "HAL\n",
      "@RG\n",
      "@QF@QC\n"
     ]
    }
   ],
   "source": [
    "print(rotate_word('IBM', -1))\n",
    "print(rotate_word('ASH', -1))\n",
    "print(rotate_word('ARGARD', -1))"
   ]
  },
  {
   "cell_type": "code",
   "execution_count": null,
   "metadata": {},
   "outputs": [
    {
     "name": "stdout",
     "output_type": "stream",
     "text": [
      "IBM HAL\n",
      "ASH @RG\n",
      "ARGARD @QF@QC\n"
     ]
    }
   ],
   "source": [
    "list_words = ['IBM', 'osi', 'oijrow', 'difjosd', 'HAL', '@RG', '@QF@QC', 'ASH', 'ARGARD']\n",
    "\n",
    "# funciona, mas não usa dicionários\n",
    "for word in list_words:\n",
    "    rotate = rotate_word(word, -1)\n",
    "    if rotate in list_words:\n",
    "        print(word, rotate) "
   ]
  },
  {
   "cell_type": "code",
   "execution_count": null,
   "metadata": {},
   "outputs": [
    {
     "name": "stdout",
     "output_type": "stream",
     "text": [
      "IBM HAL\n",
      "ASH @RG\n",
      "ARGARD @QF@QC\n",
      "{'IBM': ['HAL'], 'osi': [], 'oijrow': [], 'difjosd': [], 'HAL': [], '@RG': [], '@QF@QC': [], 'ASH': ['@RG'], 'ARGARD': ['@QF@QC']}\n"
     ]
    }
   ],
   "source": [
    "def find_rotate_word(word_list):\n",
    "    rotate_pairs = []\n",
    "    word_dict = {word: [] for word in word_list} # inicializa o dicionário\n",
    "    \n",
    "    for word in word_list:\n",
    "        rotated = rotate_word(word, -1)\n",
    "        if rotated in word_dict:\n",
    "            # adiciona a palavra rotacionada ao dicionário\n",
    "            word_dict[word].append(rotated)\n",
    "            print(word, rotated)\n",
    "    print(word_dict)\n",
    "         \n",
    "find_rotate_word(list_words)   "
   ]
  },
  {
   "cell_type": "markdown",
   "metadata": {},
   "source": [
    "### Exercício 11.6\n",
    "\n",
    "Aqui está outro quebra-cabeça do programa Car Talk (http://www.cartalk.com/content/puzzlers):\n",
    "\n",
    "Ele foi enviado por Dan O’Leary. Dan descobriu uma palavra comum, com uma sílaba e cinco letras que tem a seguinte propriedade única. Ao removermos a primeira letra, as letras restantes formam um homófono da palavra original, que é uma palavra que soa exatamente da mesma forma. Substitua a primeira letra, isto é, coloque-a de volta, retire a segunda letra e o resultado é um outro homófono da palavra original. E a pergunta é, qual é a palavra?\n",
    "\n",
    "Agora vou dar um exemplo que não funciona. Vamos usar a palavra de cinco letras, ‘wrack’ (mover, eliminar). W-R-A-C-K, como na expressão ‘wrack with pain’ (se contorcer de dor). Se eu retirar a primeira letra, sobra uma palavra de quatro letras, ‘R-A-C-K’ (galhada). Como na frase, ‘Holy cow, did you see the rack on that buck! It must have been a nine-pointer!’ (‘Minha nossa, você viu a galhada daquele cervo! Deve ter nove pontas!’). É um homófono perfeito. Se puser o ‘w’ de volta e retirar o ‘r’ em vez disso, sobra a palavra ‘wack’, que é uma palavra de verdade, mas não é um homófono das outras duas palavras.\n",
    "\n",
    "Mas há pelo menos uma palavra que Dan e eu conhecemos, que produz dois homófonos se você retirar qualquer uma das duas primeiras letras, e duas novas palavras de quatro letras são formadas. A pergunta é, qual é a palavra?\n",
    "\n",
    "Você pode usar o dicionário do Exercício 11.1 para verificar se uma string está na lista de palavras.\n",
    "\n",
    "Para verificar se duas palavras são homófonas, você pode usar o Dicionário de pronúncia CMU. Ele pode ser baixado em http://www.speech.cs.cmu.edu/cgi-bin/cmudict ou em http://thinkpython2.com/code/c06d. Você também pode baixar http://thinkpy thon2.com/code/pronounce.py, que tem uma função chamada read_dictionary, que lê o dicionário de pronúncia e retorna um dicionário de Python que mapeia cada palavra a uma string que descreve sua pronúncia primária.\n",
    "\n",
    "Escreva um programa que liste todas as palavras que resolvem o quebra-cabeça.\n",
    "\n",
    "Solução: http://thinkpython2.com/code/homophone.py."
   ]
  },
  {
   "cell_type": "code",
   "execution_count": 13,
   "metadata": {},
   "outputs": [],
   "source": [
    "# dicionario não disponivel!\n"
   ]
  }
 ],
 "metadata": {
  "kernelspec": {
   "display_name": "base",
   "language": "python",
   "name": "python3"
  },
  "language_info": {
   "codemirror_mode": {
    "name": "ipython",
    "version": 3
   },
   "file_extension": ".py",
   "mimetype": "text/x-python",
   "name": "python",
   "nbconvert_exporter": "python",
   "pygments_lexer": "ipython3",
   "version": "3.11.7"
  }
 },
 "nbformat": 4,
 "nbformat_minor": 2
}
